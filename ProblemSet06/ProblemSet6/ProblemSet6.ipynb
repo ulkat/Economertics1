{
 "cells": [
  {
   "cell_type": "markdown",
   "metadata": {},
   "source": [
    "## Question 1 \n",
    "\n",
    "Define the following terms in your own words.\n",
    "\n",
    "1. The null hypothesis: Hypothesis to be tested called null hypothesis.\n",
    "\n",
    "2. The alternative hypothesis: The scenario when the null is not satisfied, opposing the null.\n",
    "\n",
    "3. A test statistic: A calculated value from sample data to decide to reject null or fail to reject null.\n",
    "\n",
    "4. Type-I error: The situation when we reject the true null hypothesis.\n",
    "\n",
    "5. Type-II error: The situation when we fail to reject false null hypothesis.\n",
    "\n",
    "6. Significance level: The threshold probability for rejectin the null, representing the risk of type-I error.\n",
    "\n",
    "7. The 95% confidence interval: It means 95 times out of 100 times  of chosen statistic will be in this interval. \n",
    "\n",
    "8. Heteroskedasticity: A condition where the error variance change across  values of independent variable.\n",
    "\n",
    "9. The Gauss-Markov theorem: A theorem stating that under certain assumptions OLS estimator are Best Linear Unbiased Estimator (BLUE)."
   ]
  },
  {
   "cell_type": "markdown",
   "metadata": {},
   "source": [
    "## Question 2"
   ]
  },
  {
   "cell_type": "code",
   "execution_count": 27,
   "metadata": {},
   "outputs": [
    {
     "ename": "FileNotFoundError",
     "evalue": "[Errno 2] No such file or directory: '/Users/fahriulkat/Downloads/SCR-20241122-plzb.png'",
     "output_type": "error",
     "traceback": [
      "\u001b[1;31m---------------------------------------------------------------------------\u001b[0m",
      "\u001b[1;31mFileNotFoundError\u001b[0m                         Traceback (most recent call last)",
      "Cell \u001b[1;32mIn[27], line 3\u001b[0m\n\u001b[0;32m      1\u001b[0m \u001b[38;5;28;01mfrom\u001b[39;00m \u001b[38;5;21;01mIPython\u001b[39;00m\u001b[38;5;21;01m.\u001b[39;00m\u001b[38;5;21;01mdisplay\u001b[39;00m \u001b[38;5;28;01mimport\u001b[39;00m Image, display\n\u001b[1;32m----> 3\u001b[0m display(\u001b[43mImage\u001b[49m\u001b[43m(\u001b[49m\u001b[43mfilename\u001b[49m\u001b[38;5;241;43m=\u001b[39;49m\u001b[38;5;124;43m'\u001b[39;49m\u001b[38;5;124;43m/Users/fahriulkat/Downloads/SCR-20241122-plzb.png\u001b[39;49m\u001b[38;5;124;43m'\u001b[39;49m\u001b[43m)\u001b[49m)\n",
      "File \u001b[1;32m~\\AppData\\Roaming\\Python\\Python311\\site-packages\\IPython\\core\\display.py:970\u001b[0m, in \u001b[0;36mImage.__init__\u001b[1;34m(self, data, url, filename, format, embed, width, height, retina, unconfined, metadata, alt)\u001b[0m\n\u001b[0;32m    968\u001b[0m \u001b[38;5;28mself\u001b[39m\u001b[38;5;241m.\u001b[39munconfined \u001b[38;5;241m=\u001b[39m unconfined\n\u001b[0;32m    969\u001b[0m \u001b[38;5;28mself\u001b[39m\u001b[38;5;241m.\u001b[39malt \u001b[38;5;241m=\u001b[39m alt\n\u001b[1;32m--> 970\u001b[0m \u001b[38;5;28;43msuper\u001b[39;49m\u001b[43m(\u001b[49m\u001b[43mImage\u001b[49m\u001b[43m,\u001b[49m\u001b[43m \u001b[49m\u001b[38;5;28;43mself\u001b[39;49m\u001b[43m)\u001b[49m\u001b[38;5;241;43m.\u001b[39;49m\u001b[38;5;21;43m__init__\u001b[39;49m\u001b[43m(\u001b[49m\u001b[43mdata\u001b[49m\u001b[38;5;241;43m=\u001b[39;49m\u001b[43mdata\u001b[49m\u001b[43m,\u001b[49m\u001b[43m \u001b[49m\u001b[43murl\u001b[49m\u001b[38;5;241;43m=\u001b[39;49m\u001b[43murl\u001b[49m\u001b[43m,\u001b[49m\u001b[43m \u001b[49m\u001b[43mfilename\u001b[49m\u001b[38;5;241;43m=\u001b[39;49m\u001b[43mfilename\u001b[49m\u001b[43m,\u001b[49m\n\u001b[0;32m    971\u001b[0m \u001b[43m        \u001b[49m\u001b[43mmetadata\u001b[49m\u001b[38;5;241;43m=\u001b[39;49m\u001b[43mmetadata\u001b[49m\u001b[43m)\u001b[49m\n\u001b[0;32m    973\u001b[0m \u001b[38;5;28;01mif\u001b[39;00m \u001b[38;5;28mself\u001b[39m\u001b[38;5;241m.\u001b[39mwidth \u001b[38;5;129;01mis\u001b[39;00m \u001b[38;5;28;01mNone\u001b[39;00m \u001b[38;5;129;01mand\u001b[39;00m \u001b[38;5;28mself\u001b[39m\u001b[38;5;241m.\u001b[39mmetadata\u001b[38;5;241m.\u001b[39mget(\u001b[38;5;124m'\u001b[39m\u001b[38;5;124mwidth\u001b[39m\u001b[38;5;124m'\u001b[39m, {}):\n\u001b[0;32m    974\u001b[0m     \u001b[38;5;28mself\u001b[39m\u001b[38;5;241m.\u001b[39mwidth \u001b[38;5;241m=\u001b[39m metadata[\u001b[38;5;124m'\u001b[39m\u001b[38;5;124mwidth\u001b[39m\u001b[38;5;124m'\u001b[39m]\n",
      "File \u001b[1;32m~\\AppData\\Roaming\\Python\\Python311\\site-packages\\IPython\\core\\display.py:327\u001b[0m, in \u001b[0;36mDisplayObject.__init__\u001b[1;34m(self, data, url, filename, metadata)\u001b[0m\n\u001b[0;32m    324\u001b[0m \u001b[38;5;28;01melif\u001b[39;00m \u001b[38;5;28mself\u001b[39m\u001b[38;5;241m.\u001b[39mmetadata \u001b[38;5;129;01mis\u001b[39;00m \u001b[38;5;28;01mNone\u001b[39;00m:\n\u001b[0;32m    325\u001b[0m     \u001b[38;5;28mself\u001b[39m\u001b[38;5;241m.\u001b[39mmetadata \u001b[38;5;241m=\u001b[39m {}\n\u001b[1;32m--> 327\u001b[0m \u001b[38;5;28;43mself\u001b[39;49m\u001b[38;5;241;43m.\u001b[39;49m\u001b[43mreload\u001b[49m\u001b[43m(\u001b[49m\u001b[43m)\u001b[49m\n\u001b[0;32m    328\u001b[0m \u001b[38;5;28mself\u001b[39m\u001b[38;5;241m.\u001b[39m_check_data()\n",
      "File \u001b[1;32m~\\AppData\\Roaming\\Python\\Python311\\site-packages\\IPython\\core\\display.py:1005\u001b[0m, in \u001b[0;36mImage.reload\u001b[1;34m(self)\u001b[0m\n\u001b[0;32m   1003\u001b[0m \u001b[38;5;250m\u001b[39m\u001b[38;5;124;03m\"\"\"Reload the raw data from file or URL.\"\"\"\u001b[39;00m\n\u001b[0;32m   1004\u001b[0m \u001b[38;5;28;01mif\u001b[39;00m \u001b[38;5;28mself\u001b[39m\u001b[38;5;241m.\u001b[39membed:\n\u001b[1;32m-> 1005\u001b[0m     \u001b[38;5;28;43msuper\u001b[39;49m\u001b[43m(\u001b[49m\u001b[43mImage\u001b[49m\u001b[43m,\u001b[49m\u001b[38;5;28;43mself\u001b[39;49m\u001b[43m)\u001b[49m\u001b[38;5;241;43m.\u001b[39;49m\u001b[43mreload\u001b[49m\u001b[43m(\u001b[49m\u001b[43m)\u001b[49m\n\u001b[0;32m   1006\u001b[0m     \u001b[38;5;28;01mif\u001b[39;00m \u001b[38;5;28mself\u001b[39m\u001b[38;5;241m.\u001b[39mretina:\n\u001b[0;32m   1007\u001b[0m         \u001b[38;5;28mself\u001b[39m\u001b[38;5;241m.\u001b[39m_retina_shape()\n",
      "File \u001b[1;32m~\\AppData\\Roaming\\Python\\Python311\\site-packages\\IPython\\core\\display.py:353\u001b[0m, in \u001b[0;36mDisplayObject.reload\u001b[1;34m(self)\u001b[0m\n\u001b[0;32m    351\u001b[0m \u001b[38;5;28;01mif\u001b[39;00m \u001b[38;5;28mself\u001b[39m\u001b[38;5;241m.\u001b[39mfilename \u001b[38;5;129;01mis\u001b[39;00m \u001b[38;5;129;01mnot\u001b[39;00m \u001b[38;5;28;01mNone\u001b[39;00m:\n\u001b[0;32m    352\u001b[0m     encoding \u001b[38;5;241m=\u001b[39m \u001b[38;5;28;01mNone\u001b[39;00m \u001b[38;5;28;01mif\u001b[39;00m \u001b[38;5;124m\"\u001b[39m\u001b[38;5;124mb\u001b[39m\u001b[38;5;124m\"\u001b[39m \u001b[38;5;129;01min\u001b[39;00m \u001b[38;5;28mself\u001b[39m\u001b[38;5;241m.\u001b[39m_read_flags \u001b[38;5;28;01melse\u001b[39;00m \u001b[38;5;124m\"\u001b[39m\u001b[38;5;124mutf-8\u001b[39m\u001b[38;5;124m\"\u001b[39m\n\u001b[1;32m--> 353\u001b[0m     \u001b[38;5;28;01mwith\u001b[39;00m \u001b[38;5;28mopen\u001b[39m(\u001b[38;5;28mself\u001b[39m\u001b[38;5;241m.\u001b[39mfilename, \u001b[38;5;28mself\u001b[39m\u001b[38;5;241m.\u001b[39m_read_flags, encoding\u001b[38;5;241m=\u001b[39mencoding) \u001b[38;5;28;01mas\u001b[39;00m f:\n\u001b[0;32m    354\u001b[0m         \u001b[38;5;28mself\u001b[39m\u001b[38;5;241m.\u001b[39mdata \u001b[38;5;241m=\u001b[39m f\u001b[38;5;241m.\u001b[39mread()\n\u001b[0;32m    355\u001b[0m \u001b[38;5;28;01melif\u001b[39;00m \u001b[38;5;28mself\u001b[39m\u001b[38;5;241m.\u001b[39murl \u001b[38;5;129;01mis\u001b[39;00m \u001b[38;5;129;01mnot\u001b[39;00m \u001b[38;5;28;01mNone\u001b[39;00m:\n\u001b[0;32m    356\u001b[0m     \u001b[38;5;66;03m# Deferred import\u001b[39;00m\n",
      "\u001b[1;31mFileNotFoundError\u001b[0m: [Errno 2] No such file or directory: '/Users/fahriulkat/Downloads/SCR-20241122-plzb.png'"
     ]
    }
   ],
   "source": [
    "from IPython.display import Image, display\n",
    "\n",
    "display(Image(filename='/Users/fahriulkat/Downloads/SCR-20241122-plzb.png'))\n"
   ]
  },
  {
   "cell_type": "markdown",
   "metadata": {},
   "source": [
    " a. The Coefficient 2.12 means that being male makes your wage higher of 2.12. Estimated gender gap equals the coefficient, so it is 2.12."
   ]
  },
  {
   "cell_type": "code",
   "execution_count": 20,
   "metadata": {},
   "outputs": [
    {
     "name": "stdout",
     "output_type": "stream",
     "text": [
      "t-stat = 5.888888888888889\n",
      "p-value = 3.888007249486236e-09\n"
     ]
    }
   ],
   "source": [
    "import numpy as np\n",
    "from scipy.stats import norm\n",
    "\n",
    "#coefs\n",
    "b0 = 12.52\n",
    "b1 = 2.12\n",
    "\n",
    "#standard errors\n",
    "seb0 = 0.23\n",
    "seb1 = 0.36\n",
    "\n",
    "\n",
    "r2 = 0.06\n",
    "ser = 4.2\n",
    "\n",
    "#Option B\n",
    "t_stat = (b1-0)/seb1\n",
    "\n",
    "print(f\"t-stat = {t_stat}\")\n",
    "\n",
    "p_value = 2 * (1 - norm.cdf(abs(t_stat), loc=0, scale=1))\n",
    "\n",
    "print(f\"p-value = {p_value}\")\n",
    "\n"
   ]
  },
  {
   "cell_type": "markdown",
   "metadata": {},
   "source": [
    "b. Since p-value is much smalle than 0.05 we can reject the null hypothesis"
   ]
  },
  {
   "cell_type": "code",
   "execution_count": 23,
   "metadata": {},
   "outputs": [
    {
     "name": "stdout",
     "output_type": "stream",
     "text": [
      "c. CI: 1.4536000000000002 < gender gap < 2.7864\n"
     ]
    }
   ],
   "source": [
    "upper_limit = 2.12 + 1.96*0.34\n",
    "lower_limit = 2.12 - 1.96*0.34\n",
    "\n",
    "print(f\"c. CI: {lower_limit} < gender gap < {upper_limit}\")"
   ]
  },
  {
   "cell_type": "markdown",
   "metadata": {},
   "source": [
    "d. \n",
    "1. Mean avarage for women: 12.52 + 2.12 * 0 = 12.52\n",
    "2. Mean avarage for women: 12.52 + 2.12 * 1 = 14.64"
   ]
  },
  {
   "cell_type": "markdown",
   "metadata": {},
   "source": [
    "e. \n",
    "We know that mean wage for men equasl 14.64 so new beta0 will be 14.64 and beinf femala will decerase the mean so new beta1 will be -2.12. Thus,\n",
    "\n",
    "<li> Wage = 14.64 - 2.12 x Female\n",
    "\n",
    "<p>\n",
    "R2 and SER will be same because changind dummy variable does not change relationship between Y and D.</p>\n",
    "\n",
    "<li> R2 = 0.06 SER = 4.2"
   ]
  },
  {
   "cell_type": "markdown",
   "metadata": {},
   "source": [
    "### Question 3"
   ]
  },
  {
   "cell_type": "code",
   "execution_count": 53,
   "metadata": {},
   "outputs": [],
   "source": [
    "\n",
    "#import the libraries\n",
    "import numpy as np\n",
    "import pandas as pd\n",
    "import matplotlib.pyplot as plt\n",
    "import statsmodels.api as sm\n",
    "import statsmodels.formula.api as smf\n",
    "from statsmodels.iolib.summary2 import summary_col\n",
    "import scipy.stats as stats\n",
    "\n",
    "\n",
    "warnings.simplefilter(\"ignore\", UserWarning)"
   ]
  },
  {
   "cell_type": "code",
   "execution_count": 43,
   "metadata": {},
   "outputs": [
    {
     "data": {
      "text/html": [
       "<div>\n",
       "<style scoped>\n",
       "    .dataframe tbody tr th:only-of-type {\n",
       "        vertical-align: middle;\n",
       "    }\n",
       "\n",
       "    .dataframe tbody tr th {\n",
       "        vertical-align: top;\n",
       "    }\n",
       "\n",
       "    .dataframe thead th {\n",
       "        text-align: right;\n",
       "    }\n",
       "</style>\n",
       "<table border=\"1\" class=\"dataframe\">\n",
       "  <thead>\n",
       "    <tr style=\"text-align: right;\">\n",
       "      <th></th>\n",
       "      <th>earnings</th>\n",
       "      <th>gender</th>\n",
       "      <th>age</th>\n",
       "      <th>region</th>\n",
       "      <th>education</th>\n",
       "    </tr>\n",
       "  </thead>\n",
       "  <tbody>\n",
       "    <tr>\n",
       "      <th>0</th>\n",
       "      <td>20.673077</td>\n",
       "      <td>male</td>\n",
       "      <td>31</td>\n",
       "      <td>South</td>\n",
       "      <td>14</td>\n",
       "    </tr>\n",
       "    <tr>\n",
       "      <th>1</th>\n",
       "      <td>24.278847</td>\n",
       "      <td>male</td>\n",
       "      <td>50</td>\n",
       "      <td>South</td>\n",
       "      <td>12</td>\n",
       "    </tr>\n",
       "    <tr>\n",
       "      <th>2</th>\n",
       "      <td>10.149572</td>\n",
       "      <td>male</td>\n",
       "      <td>36</td>\n",
       "      <td>South</td>\n",
       "      <td>12</td>\n",
       "    </tr>\n",
       "    <tr>\n",
       "      <th>3</th>\n",
       "      <td>8.894231</td>\n",
       "      <td>female</td>\n",
       "      <td>33</td>\n",
       "      <td>South</td>\n",
       "      <td>10</td>\n",
       "    </tr>\n",
       "    <tr>\n",
       "      <th>4</th>\n",
       "      <td>6.410256</td>\n",
       "      <td>female</td>\n",
       "      <td>56</td>\n",
       "      <td>South</td>\n",
       "      <td>10</td>\n",
       "    </tr>\n",
       "  </tbody>\n",
       "</table>\n",
       "</div>"
      ],
      "text/plain": [
       "    earnings  gender  age region  education\n",
       "0  20.673077    male   31  South         14\n",
       "1  24.278847    male   50  South         12\n",
       "2  10.149572    male   36  South         12\n",
       "3   8.894231  female   33  South         10\n",
       "4   6.410256  female   56  South         10"
      ]
     },
     "execution_count": 29,
     "metadata": {},
     "output_type": "execute_result"
    }
   ],
   "source": [
    "df = pd.read_excel(r\"C:\\Users\\fahri\\Desktop\\itü\\econ\\ecn301e\\ProblemSet06\\ProblemSet6\\ProblemSet6\\CPSSW8.xlsx\")\n",
    "\n",
    "df.head()"
   ]
  },
  {
   "cell_type": "code",
   "execution_count": 46,
   "metadata": {},
   "outputs": [
    {
     "name": "stdout",
     "output_type": "stream",
     "text": [
      "                            OLS Regression Results                            \n",
      "==============================================================================\n",
      "Dep. Variable:               earnings   R-squared:                       0.180\n",
      "Model:                            OLS   Adj. R-squared:                  0.180\n",
      "Method:                 Least Squares   F-statistic:                 1.159e+04\n",
      "Date:                Mon, 25 Nov 2024   Prob (F-statistic):               0.00\n",
      "Time:                        21:00:37   Log-Likelihood:            -2.2317e+05\n",
      "No. Observations:               61395   AIC:                         4.464e+05\n",
      "Df Residuals:                   61393   BIC:                         4.464e+05\n",
      "Df Model:                           1                                         \n",
      "Covariance Type:                  HC1                                         \n",
      "==============================================================================\n",
      "                 coef    std err          t      P>|t|      [0.025      0.975]\n",
      "------------------------------------------------------------------------------\n",
      "Intercept     -5.3763      0.212    -25.307      0.000      -5.793      -4.960\n",
      "education      1.7451      0.016    107.669      0.000       1.713       1.777\n",
      "==============================================================================\n",
      "Omnibus:                     9721.871   Durbin-Watson:                   1.828\n",
      "Prob(Omnibus):                  0.000   Jarque-Bera (JB):            17015.805\n",
      "Skew:                           1.033   Prob(JB):                         0.00\n",
      "Kurtosis:                       4.543   Cond. No.                         78.5\n",
      "==============================================================================\n",
      "\n",
      "Notes:\n",
      "[1] Standard Errors are heteroscedasticity robust (HC1)\n"
     ]
    }
   ],
   "source": [
    "model = smf.ols('earnings ~ education', data=df).fit()\n",
    "\n",
    "robust_se = model.get_robustcov_results(cov_type='HC1')\n",
    "\n",
    "print(robust_se.summary())"
   ]
  },
  {
   "cell_type": "code",
   "execution_count": 51,
   "metadata": {},
   "outputs": [
    {
     "name": "stdout",
     "output_type": "stream",
     "text": [
      "                                 OLS Regression Results                                \n",
      "=======================================================================================\n",
      "Dep. Variable:               earnings   R-squared (uncentered):                   0.808\n",
      "Model:                            OLS   Adj. R-squared (uncentered):              0.808\n",
      "Method:                 Least Squares   F-statistic:                          2.580e+05\n",
      "Date:                Mon, 25 Nov 2024   Prob (F-statistic):                        0.00\n",
      "Time:                        20:53:57   Log-Likelihood:                     -2.2350e+05\n",
      "No. Observations:               61395   AIC:                                  4.470e+05\n",
      "Df Residuals:                   61394   BIC:                                  4.470e+05\n",
      "Df Model:                           1                                                  \n",
      "Covariance Type:            nonrobust                                                  \n",
      "==============================================================================\n",
      "                 coef    std err          t      P>|t|      [0.025      0.975]\n",
      "------------------------------------------------------------------------------\n",
      "education      1.3635      0.003    507.982      0.000       1.358       1.369\n",
      "==============================================================================\n",
      "Omnibus:                    10867.678   Durbin-Watson:                   1.807\n",
      "Prob(Omnibus):                  0.000   Jarque-Bera (JB):            19759.116\n",
      "Skew:                           1.123   Prob(JB):                         0.00\n",
      "Kurtosis:                       4.636   Cond. No.                         1.00\n",
      "==============================================================================\n",
      "\n",
      "Notes:\n",
      "[1] R² is computed without centering (uncentered) since the model does not contain a constant.\n",
      "[2] Standard Errors assume that the covariance matrix of the errors is correctly specified.\n"
     ]
    }
   ],
   "source": []
  },
  {
   "cell_type": "code",
   "execution_count": 58,
   "metadata": {},
   "outputs": [
    {
     "name": "stdout",
     "output_type": "stream",
     "text": [
      "                                 OLS Regression Results                                \n",
      "=======================================================================================\n",
      "Dep. Variable:               earnings   R-squared (uncentered):                   0.808\n",
      "Model:                            OLS   Adj. R-squared (uncentered):              0.808\n",
      "Method:                 Least Squares   F-statistic:                          2.286e+05\n",
      "Date:                Mon, 25 Nov 2024   Prob (F-statistic):                        0.00\n",
      "Time:                        20:54:00   Log-Likelihood:                     -2.2350e+05\n",
      "No. Observations:               61395   AIC:                                  4.470e+05\n",
      "Df Residuals:                   61394   BIC:                                  4.470e+05\n",
      "Df Model:                           1                                                  \n",
      "Covariance Type:                  HC1                                                  \n",
      "==============================================================================\n",
      "                 coef    std err          z      P>|z|      [0.025      0.975]\n",
      "------------------------------------------------------------------------------\n",
      "education      1.3635      0.003    478.110      0.000       1.358       1.369\n",
      "==============================================================================\n",
      "Omnibus:                    10867.678   Durbin-Watson:                   1.807\n",
      "Prob(Omnibus):                  0.000   Jarque-Bera (JB):            19759.116\n",
      "Skew:                           1.123   Prob(JB):                         0.00\n",
      "Kurtosis:                       4.636   Cond. No.                         1.00\n",
      "==============================================================================\n",
      "\n",
      "Notes:\n",
      "[1] R² is computed without centering (uncentered) since the model does not contain a constant.\n",
      "[2] Standard Errors are heteroscedasticity robust (HC1)\n"
     ]
    }
   ],
   "source": []
  },
  {
   "cell_type": "code",
   "execution_count": 60,
   "metadata": {},
   "outputs": [
    {
     "data": {
      "text/html": [
       "<table class=\"simpletable\">\n",
       "<tr>\n",
       "         <td></td>        <th>Homoskedastic Model</th> <th>Heteroskedastic Model</th>\n",
       "</tr>\n",
       "<tr>\n",
       "  <th>education</th>           <td>1.364***</td>             <td>1.364***</td>       \n",
       "</tr>\n",
       "<tr>\n",
       "  <th></th>                     <td>(0.003)</td>              <td>(0.003)</td>       \n",
       "</tr>\n",
       "<tr>\n",
       "  <th>R-squared</th>             <td>0.808</td>                <td>0.808</td>        \n",
       "</tr>\n",
       "<tr>\n",
       "  <th>R-squared Adj.</th>        <td>0.808</td>                <td>0.808</td>        \n",
       "</tr>\n",
       "</table><br/>\n",
       "Standard errors in parentheses.<br/>\n",
       "* p<.1, ** p<.05, ***p<.01"
      ],
      "text/latex": [
       "\\begin{table}\n",
       "\\caption{}\n",
       "\\label{}\n",
       "\\begin{center}\n",
       "\\begin{tabular}{lll}\n",
       "\\hline\n",
       "               & Homoskedastic Model & Heteroskedastic Model  \\\\\n",
       "\\hline\n",
       "education      & 1.364***            & 1.364***               \\\\\n",
       "               & (0.003)             & (0.003)                \\\\\n",
       "R-squared      & 0.808               & 0.808                  \\\\\n",
       "R-squared Adj. & 0.808               & 0.808                  \\\\\n",
       "\\hline\n",
       "\\end{tabular}\n",
       "\\end{center}\n",
       "\\end{table}\n",
       "\\bigskip\n",
       "Standard errors in parentheses. \\newline \n",
       "* p<.1, ** p<.05, ***p<.01"
      ],
      "text/plain": [
       "<class 'statsmodels.iolib.summary2.Summary'>\n",
       "\"\"\"\n",
       "\n",
       "========================================================\n",
       "               Homoskedastic Model Heteroskedastic Model\n",
       "--------------------------------------------------------\n",
       "education      1.364***            1.364***             \n",
       "               (0.003)             (0.003)              \n",
       "R-squared      0.808               0.808                \n",
       "R-squared Adj. 0.808               0.808                \n",
       "========================================================\n",
       "Standard errors in parentheses.\n",
       "* p<.1, ** p<.05, ***p<.01\n",
       "\"\"\""
      ]
     },
     "execution_count": 21,
     "metadata": {},
     "output_type": "execute_result"
    }
   ],
   "source": []
  }
 ],
 "metadata": {
  "kernelspec": {
   "display_name": "Python 3",
   "language": "python",
   "name": "python3"
  },
  "language_info": {
   "codemirror_mode": {
    "name": "ipython",
    "version": 3
   },
   "file_extension": ".py",
   "mimetype": "text/x-python",
   "name": "python",
   "nbconvert_exporter": "python",
   "pygments_lexer": "ipython3",
   "version": "3.11.4"
  },
  "orig_nbformat": 4
 },
 "nbformat": 4,
 "nbformat_minor": 2
}
